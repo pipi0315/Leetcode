{
 "cells": [
  {
   "cell_type": "markdown",
   "metadata": {},
   "source": [
    "### 描述\n",
    "给出一个字符串（假设长度最长为1000），求出它的最长回文子串，你可以假定只有一个满足条件的最长回文串。"
   ]
  },
  {
   "cell_type": "code",
   "execution_count": 1,
   "metadata": {},
   "outputs": [],
   "source": [
    "class Solution:\n",
    "    \"\"\"\n",
    "    @param s: input string\n",
    "    @return: the longest palindromic substring\n",
    "    \"\"\"\n",
    "    def longestPalindrome(self, s):\n",
    "        # 重点1：任何代码都要进行异常检测\n",
    "        if not s:\n",
    "            return \"\"\n",
    "        \n",
    "        # 重点2：用空行区分开异常检测部分，核心代码部分，和返回值部分，属于高端代码风格技巧\n",
    "        longest = \"\"\n",
    "        for middle in range(len(s)):\n",
    "            # 重点3：子函数化避免重复代码\n",
    "            sub = self.find_palindrome_from(s, middle, middle) # 假设存在回文子串长度为偶数\n",
    "\t        # 重点4：通过返回值来避免使用全局变量这种不好的代码风格\n",
    "            if len(sub) > len(longest):\n",
    "                longest = sub\n",
    "            sub = self.find_palindrome_from(s, middle, middle + 1) # 假设存在回文子串长度为奇数\n",
    "            if len(sub) > len(longest):\n",
    "                longest = sub\n",
    "                \n",
    "\t\t# 重点2：用空行区分开异常检测部分，核心代码部分，和返回值部分，属于高端代码风格技巧\n",
    "        return longest\n",
    "        \n",
    "    def find_palindrome_from(self, string, left, right):\n",
    "        while left >= 0 and right < len(string):\n",
    "            # 重点5：将复杂判断拆分到 while 循环内部，而不是放在 while 循环中，提高代码可读性\n",
    "            if string[left] != string[right]:\n",
    "                break\n",
    "            left -= 1\n",
    "            right += 1\n",
    "            \n",
    "        return string[left + 1:right]"
   ]
  },
  {
   "cell_type": "code",
   "execution_count": 7,
   "metadata": {},
   "outputs": [
    {
     "data": {
      "text/plain": [
       "'acbca'"
      ]
     },
     "execution_count": 7,
     "metadata": {},
     "output_type": "execute_result"
    }
   ],
   "source": [
    "s = \"abcdssdacbcab\"\n",
    "a = Solution()\n",
    "a.longestPalindrome(s)"
   ]
  },
  {
   "cell_type": "code",
   "execution_count": null,
   "metadata": {},
   "outputs": [],
   "source": []
  }
 ],
 "metadata": {
  "kernelspec": {
   "display_name": "lx",
   "language": "python",
   "name": "lx"
  },
  "language_info": {
   "codemirror_mode": {
    "name": "ipython",
    "version": 3
   },
   "file_extension": ".py",
   "mimetype": "text/x-python",
   "name": "python",
   "nbconvert_exporter": "python",
   "pygments_lexer": "ipython3",
   "version": "3.6.2"
  }
 },
 "nbformat": 4,
 "nbformat_minor": 4
}
