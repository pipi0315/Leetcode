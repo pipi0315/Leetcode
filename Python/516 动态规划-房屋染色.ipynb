{
 "cells": [
  {
   "cell_type": "markdown",
   "metadata": {},
   "source": [
    "## 516 动态规划-房屋染色||"
   ]
  },
  {
   "cell_type": "markdown",
   "metadata": {},
   "source": [
    "这里有n个房子在一列直线上，现在我们需要给房屋染色，共有k种颜色。每个房屋染不同的颜色费用也不同，你希望每两个相邻的房屋颜色不同\n",
    "\n",
    "费用通过一个nxk 的矩阵给出，比如cost[0][0]表示房屋0染颜色0的费用，cost[1][2]表示房屋1染颜色2的费用。找到油漆所有房子的最低成本。\n"
   ]
  },
  {
   "cell_type": "code",
   "execution_count": 16,
   "metadata": {},
   "outputs": [],
   "source": [
    "class Solution(object):\n",
    "    def minCostII(self, costs):\n",
    "        \"\"\"\n",
    "        :type costs: List[List[int]]\n",
    "        :rtype: int\n",
    "        \"\"\"\n",
    "        if not costs or not costs[0]:\n",
    "            return 0\n",
    "        \n",
    "        n, k = len(costs), len(costs[0])\n",
    "        dp = [[0 for j in range(k)] for i in range(n)]\n",
    "\n",
    "        for j in range(k):\n",
    "            dp[0][j] = costs[0][j]\n",
    "        \n",
    "        for i in range(1, n):\n",
    "            leftmin = [2147483647] * k  # 从0 ~ i前一个房子涂色后最小的cost\n",
    "            rightmin = [2147483647] * k  # 从i ~ n - 1前一个房子涂色后最小的cost\n",
    "            \n",
    "            for j in range(k):\n",
    "                if j == 0:\n",
    "                    leftmin[j] = dp[i - 1][j]\n",
    "                else:\n",
    "                    leftmin[j] = min(leftmin[j - 1], dp[i - 1][j])\n",
    "                    \n",
    "            for j in range(k - 1, -1, -1):\n",
    "                if j == k - 1:\n",
    "                    rightmin[j] = dp[i - 1][j]\n",
    "                else:\n",
    "                    rightmin[j] = min(rightmin[j + 1], dp[i - 1][j])\n",
    "                \n",
    "            for j in range(k):\n",
    "                # 第i个房子要涂第j个颜色，它的最小cost = 当前房子i涂了j颜色的cost + min(前一个房子没有涂这个颜色的其他 k - 1个cost)\n",
    "                if j == 0:\n",
    "                    dp[i][j] = costs[i][j] + rightmin[j + 1]\n",
    "                elif j == k - 1:\n",
    "                    dp[i][j] = costs[i][j] + leftmin[j - 1]\n",
    "                else:\n",
    "                    dp[i][j] = costs[i][j] + min(leftmin[j - 1], rightmin[j + 1])\n",
    "            \n",
    "        res = 2147483647\n",
    "        for j in range(k):\n",
    "            res = min(res, dp[n - 1][j])\n",
    "        return res"
   ]
  },
  {
   "cell_type": "code",
   "execution_count": 17,
   "metadata": {},
   "outputs": [
    {
     "data": {
      "text/plain": [
       "10"
      ]
     },
     "execution_count": 17,
     "metadata": {},
     "output_type": "execute_result"
    }
   ],
   "source": [
    "nums = [[14,2,11],[11,14,5],[14,3,10]]\n",
    "a = Solution()\n",
    "a.minCostII(nums)"
   ]
  },
  {
   "cell_type": "code",
   "execution_count": 19,
   "metadata": {},
   "outputs": [],
   "source": [
    "from heapq import heappop, heapify\n",
    "class Solution:\n",
    "    def min_cost_i_i(self, costs):\n",
    "        if not costs or not costs[0]:\n",
    "            return 0\n",
    "        q = [[costs[0][i], i] for i in range(len(costs[0]))]\n",
    "        for row in costs[1:]:\n",
    "            heapify(q)\n",
    "            c1, k = heappop(q)\n",
    "            c2, _ = heappop(q)\n",
    "            q_cur = [[row[i]+c1, i] if i!=k else [row[i]+c2, i] for i in range(len(row))]\n",
    "            q = q_cur[:]\n",
    "        return min(e[0] for e in q)"
   ]
  },
  {
   "cell_type": "code",
   "execution_count": 21,
   "metadata": {},
   "outputs": [
    {
     "data": {
      "text/plain": [
       "10"
      ]
     },
     "execution_count": 21,
     "metadata": {},
     "output_type": "execute_result"
    }
   ],
   "source": [
    "nums = [[14,2,11],[11,14,5],[14,3,10]]\n",
    "a = Solution()\n",
    "a.min_cost_i_i(nums)"
   ]
  },
  {
   "cell_type": "code",
   "execution_count": null,
   "metadata": {},
   "outputs": [],
   "source": []
  }
 ],
 "metadata": {
  "kernelspec": {
   "display_name": "lx",
   "language": "python",
   "name": "lx"
  },
  "language_info": {
   "codemirror_mode": {
    "name": "ipython",
    "version": 3
   },
   "file_extension": ".py",
   "mimetype": "text/x-python",
   "name": "python",
   "nbconvert_exporter": "python",
   "pygments_lexer": "ipython3",
   "version": "3.6.2"
  }
 },
 "nbformat": 4,
 "nbformat_minor": 4
}
