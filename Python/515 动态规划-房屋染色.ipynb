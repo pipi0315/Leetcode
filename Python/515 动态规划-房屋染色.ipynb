{
 "cells": [
  {
   "cell_type": "markdown",
   "metadata": {},
   "source": [
    "## 515 动态规划-房屋染色||"
   ]
  },
  {
   "cell_type": "markdown",
   "metadata": {},
   "source": [
    "这里有n个房子在一列直线上，现在我们需要给房屋染色，分别有红色蓝色和绿色。每个房屋染不同的颜色费用也不同，你需要设计一种染色方案使得相邻的房屋颜色不同，并且费用最小，返回最小的费用。\n",
    "\n",
    "费用通过一个nx3 的矩阵给出，比如cost[0][0]表示房屋0染红色的费用，cost[1][2]表示房屋1染绿色的费用，依此类推。找到油漆所有房子的最低成本。\n"
   ]
  },
  {
   "cell_type": "code",
   "execution_count": 19,
   "metadata": {},
   "outputs": [],
   "source": [
    "class Solution:\n",
    "\n",
    "    def minCost(self, costs) -> int:\n",
    "        \n",
    "        r, b, g = 0, 0, 0\n",
    "        for r_c, b_c, g_c in costs:\n",
    "            r, b, g = r_c + min(b, g), b_c + min(r, g), g_c + min(r, b)\n",
    "        return min(r, b, g)"
   ]
  },
  {
   "cell_type": "code",
   "execution_count": 20,
   "metadata": {},
   "outputs": [
    {
     "data": {
      "text/plain": [
       "10"
      ]
     },
     "execution_count": 20,
     "metadata": {},
     "output_type": "execute_result"
    }
   ],
   "source": [
    "nums = [[14,2,11],[11,14,5],[14,3,10]]\n",
    "a = Solution()\n",
    "a.minCost(nums)"
   ]
  },
  {
   "cell_type": "code",
   "execution_count": 39,
   "metadata": {},
   "outputs": [],
   "source": [
    "class Solution:\n",
    "    def minCost(self, costs):\n",
    "\n",
    "        if not costs:\n",
    "            return 0\n",
    "        dp = [[float('inf')] * 3 for _ in costs]\n",
    "\n",
    "        for i, cost in enumerate(costs):\n",
    "            if i == 0:\n",
    "                dp[i] = cost[:] \n",
    "                continue\n",
    "            r, g, b = cost\n",
    "            dp[i][0] = min(dp[i - 1][1], dp[i - 1][2]) + cost[0]\n",
    "            dp[i][1] = min(dp[i - 1][0], dp[i - 1][2]) + cost[1]\n",
    "            dp[i][2] = min(dp[i - 1][0], dp[i - 1][1]) + cost[2]\n",
    "        return min(dp[-1])"
   ]
  },
  {
   "cell_type": "code",
   "execution_count": 40,
   "metadata": {},
   "outputs": [
    {
     "data": {
      "text/plain": [
       "10"
      ]
     },
     "execution_count": 40,
     "metadata": {},
     "output_type": "execute_result"
    }
   ],
   "source": [
    "nums = [[14,2,11],[11,14,5],[14,3,10]]\n",
    "a = Solution()\n",
    "a.minCost(nums)"
   ]
  },
  {
   "cell_type": "code",
   "execution_count": 56,
   "metadata": {},
   "outputs": [
    {
     "data": {
      "text/plain": [
       "[[14, 3, 10], [11, 14, 5]]"
      ]
     },
     "execution_count": 56,
     "metadata": {},
     "output_type": "execute_result"
    }
   ],
   "source": [
    "nums = [[14,2,11],[11,14,5],[14,3,10]]\n",
    "nums[-1:0:-1]"
   ]
  },
  {
   "cell_type": "code",
   "execution_count": null,
   "metadata": {},
   "outputs": [],
   "source": []
  }
 ],
 "metadata": {
  "kernelspec": {
   "display_name": "lx",
   "language": "python",
   "name": "lx"
  },
  "language_info": {
   "codemirror_mode": {
    "name": "ipython",
    "version": 3
   },
   "file_extension": ".py",
   "mimetype": "text/x-python",
   "name": "python",
   "nbconvert_exporter": "python",
   "pygments_lexer": "ipython3",
   "version": "3.6.2"
  }
 },
 "nbformat": 4,
 "nbformat_minor": 4
}
