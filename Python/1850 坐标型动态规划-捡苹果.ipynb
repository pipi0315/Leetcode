{
 "cells": [
  {
   "cell_type": "markdown",
   "metadata": {},
   "source": [
    "## 1850 坐标型动态规划-捡苹果"
   ]
  },
  {
   "cell_type": "markdown",
   "metadata": {},
   "source": [
    "Alice 和 Bob 在一个漂亮的果园里面工作，果园里面有N棵苹果树排成了一排，这些苹果树被标记成1 - N号。\n",
    "Alice 计划收集连续的K棵苹果树上面的所有苹果，Bob 计划收集连续的L棵苹果树上面的所有苹果。\n",
    "他们希望选择不相交的部分（一个由 Alice 的K树组成，另一个由鲍勃 Bob 的L树组成），以免相互干扰。你应该返回他们可以收集的最大数量的苹果。"
   ]
  },
  {
   "cell_type": "code",
   "execution_count": 15,
   "metadata": {},
   "outputs": [],
   "source": [
    "class Solution:\n",
    "    \"\"\"\n",
    "    @param A: a list of integer\n",
    "    @param K: a integer\n",
    "    @param L: a integer\n",
    "    @return: return the maximum number of apples that they can collect.\n",
    "    \"\"\"\n",
    "    def PickApples(self, A, K, L):\n",
    "        # write your code here\n",
    "        n = len(A)\n",
    "        if n < K + L:\n",
    "            return -1\n",
    "        prefix_sum = [0]\n",
    "        # 计算数组累加和\n",
    "        for i in A:\n",
    "            prefix_sum.append(prefix_sum[-1] + i) \n",
    "        \n",
    "        ret = -1\n",
    "        \n",
    "        # 计算左边为k时的最大和\n",
    "        max_left = 0\n",
    "        for i in range(K, len(prefix_sum)-L):\n",
    "            max_left = max(max_left, prefix_sum[i]-prefix_sum[i-K])\n",
    "            ret = max(ret, max_left + prefix_sum[i+L]-prefix_sum[i])\n",
    "            \n",
    "        # 计算左边为L时的最大和\n",
    "        max_left = 0\n",
    "        for i in range(L, len(prefix_sum)-K):\n",
    "            max_left = max(max_left, prefix_sum[i]-prefix_sum[i-L])\n",
    "            ret = max(ret, max_left + prefix_sum[i+K]-prefix_sum[i])\n",
    "\n",
    "        return ret"
   ]
  },
  {
   "cell_type": "code",
   "execution_count": 16,
   "metadata": {},
   "outputs": [
    {
     "data": {
      "text/plain": [
       "24"
      ]
     },
     "execution_count": 16,
     "metadata": {},
     "output_type": "execute_result"
    }
   ],
   "source": [
    "A = [6, 1, 4, 6, 3, 2, 7, 4]\n",
    "K = 3\n",
    "L = 2\n",
    "a = Solution()\n",
    "a.PickApples(A,K,L)"
   ]
  },
  {
   "cell_type": "code",
   "execution_count": null,
   "metadata": {},
   "outputs": [],
   "source": []
  }
 ],
 "metadata": {
  "kernelspec": {
   "display_name": "lx",
   "language": "python",
   "name": "lx"
  },
  "language_info": {
   "codemirror_mode": {
    "name": "ipython",
    "version": 3
   },
   "file_extension": ".py",
   "mimetype": "text/x-python",
   "name": "python",
   "nbconvert_exporter": "python",
   "pygments_lexer": "ipython3",
   "version": "3.6.2"
  }
 },
 "nbformat": 4,
 "nbformat_minor": 4
}
