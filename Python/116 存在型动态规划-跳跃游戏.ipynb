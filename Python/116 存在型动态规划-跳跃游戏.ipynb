{
 "cells": [
  {
   "cell_type": "markdown",
   "metadata": {},
   "source": [
    "## 116 动态规划-跳跃游戏"
   ]
  },
  {
   "cell_type": "markdown",
   "metadata": {},
   "source": [
    "给出一个非负整数数组，你最初定位在数组的第一个位置。\n",
    "\n",
    "数组中的每个元素代表你在那个位置可以跳跃的最大长度。\n",
    "\n",
    "判断你是否能到达数组的最后一个位置。\n",
    "\n",
    "思路：  \n",
    "    最后一步：如果青蛙能够跳到最后一块石头n-1上；  \n",
    "    这一步是从石头i跳过来，i<n-1；  \n",
    "    满足条件：  \n",
    "        青蛙可以跳到石头i；  \n",
    "        最后一步不超过跳跃的最大距离：n-1-i<=ai  \n",
    "    转移方程：\n",
    "        f[j] = OR (f[i] AND i + a[i] <= j) (0 <= i <j)"
   ]
  },
  {
   "cell_type": "code",
   "execution_count": 37,
   "metadata": {},
   "outputs": [],
   "source": [
    "class Solution:\n",
    "    def canJump(self, A):\n",
    "        n = 0\n",
    "        for i in range(len(A)):\n",
    "            if i > n:\n",
    "                return False #说明无法跳到i位置，肯定不能到最后位置，所以直接False\n",
    "            else:\n",
    "                n = max(n, A[i]+i) #可以跳到i处，则判断并更新最大值信息\n",
    "        return True"
   ]
  },
  {
   "cell_type": "code",
   "execution_count": 38,
   "metadata": {},
   "outputs": [
    {
     "data": {
      "text/plain": [
       "True"
      ]
     },
     "execution_count": 38,
     "metadata": {},
     "output_type": "execute_result"
    }
   ],
   "source": [
    "A = [2,3,1,1,4]\n",
    "a = Solution()\n",
    "a.canJump(A)"
   ]
  },
  {
   "cell_type": "code",
   "execution_count": 39,
   "metadata": {},
   "outputs": [],
   "source": [
    "class Solution:\n",
    "    \"\"\"\n",
    "    @param a: A list of integers\n",
    "    @return: A boolean\n",
    "    \"\"\"\n",
    "    def can_jump(self, a):\n",
    "        # write your code here\n",
    "        n = len(a)\n",
    "        dp = [1] + [0] * (n-1)\n",
    "#         dp = [0] * n\n",
    "        dp[0] = 1\n",
    "        for j in range(1,n):\n",
    "            dp[j] = 0\n",
    "            for i in range(j):  \n",
    "#                 if dp[i] and i + a[i] >= j:\n",
    "                if  i + a[i] >= j:\n",
    "                    dp[j] = 1\n",
    "                    break\n",
    "        return dp[n-1]==1\n"
   ]
  },
  {
   "cell_type": "code",
   "execution_count": 40,
   "metadata": {},
   "outputs": [
    {
     "data": {
      "text/plain": [
       "True"
      ]
     },
     "execution_count": 40,
     "metadata": {},
     "output_type": "execute_result"
    }
   ],
   "source": [
    "A = [2,3,1,1,4]\n",
    "a = Solution()\n",
    "a.can_jump(A)"
   ]
  },
  {
   "cell_type": "code",
   "execution_count": null,
   "metadata": {},
   "outputs": [],
   "source": []
  }
 ],
 "metadata": {
  "kernelspec": {
   "display_name": "lx",
   "language": "python",
   "name": "lx"
  },
  "language_info": {
   "codemirror_mode": {
    "name": "ipython",
    "version": 3
   },
   "file_extension": ".py",
   "mimetype": "text/x-python",
   "name": "python",
   "nbconvert_exporter": "python",
   "pygments_lexer": "ipython3",
   "version": "3.6.2"
  }
 },
 "nbformat": 4,
 "nbformat_minor": 4
}
