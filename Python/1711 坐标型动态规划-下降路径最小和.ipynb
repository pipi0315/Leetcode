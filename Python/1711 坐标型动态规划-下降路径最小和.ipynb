{
 "cells": [
  {
   "cell_type": "markdown",
   "metadata": {},
   "source": [
    "## 1711 坐标型动态规划-下降路径最小和"
   ]
  },
  {
   "cell_type": "markdown",
   "metadata": {},
   "source": [
    "描述  \n",
    "给定一个方形整数数组 A，我们想要得到通过 A 的下降路径的最小和。\n",
    "\n",
    "下降路径可以从第一行中的任何元素开始，并从每一行中选择一个元素。在下一行选择的元素和当前行所选元素最多相隔一列。"
   ]
  },
  {
   "cell_type": "markdown",
   "metadata": {},
   "source": [
    "用 dp(r, c) 表示从位置为 (r, c) 的元素开始的下降路径最小和。根据题目的要求，位置 (r, c) 可以下降到 (r + 1, c - 1)，(r + 1, c) 和 (r + 1, c + 1) 三个位置（先不考虑超出数组边界的情况），因此状态转移方程为：\n",
    "\n",
    "dp(r, c) = A[r][c] + min{dp(r + 1, c - 1), dp(r + 1, c), dp(r + 1, c + 1)}"
   ]
  },
  {
   "cell_type": "code",
   "execution_count": 1,
   "metadata": {},
   "outputs": [],
   "source": [
    "class Solution:\n",
    "    \"\"\"\n",
    "    @param A: the given array\n",
    "    @return: the minimum sum of a falling path\n",
    "    \"\"\"\n",
    "    def minFallingPathSum(self, A):\n",
    "        # Write your code here\n",
    "        # 给从第二行开始的每个元素都加上到这个元素的路径最小值\n",
    "        for i in range(1, len(A)):\n",
    "            for j in range(len(A[0])):\n",
    "                topleft = A[i-1][max(j-1, 0)] \n",
    "                topright = A[i-1][min(j+1, len(A) - 1)]\n",
    "                A[i][j] += min(topleft, topright, A[i-1][j])\n",
    "           \n",
    "        return min(A[-1])"
   ]
  },
  {
   "cell_type": "code",
   "execution_count": 2,
   "metadata": {},
   "outputs": [
    {
     "data": {
      "text/plain": [
       "12"
      ]
     },
     "execution_count": 2,
     "metadata": {},
     "output_type": "execute_result"
    }
   ],
   "source": [
    "num = [[1,2,3],[4,5,6],[7,8,9]]\n",
    "a = Solution()\n",
    "a.minFallingPathSum(num)"
   ]
  },
  {
   "cell_type": "code",
   "execution_count": null,
   "metadata": {},
   "outputs": [],
   "source": []
  }
 ],
 "metadata": {
  "kernelspec": {
   "display_name": "lx",
   "language": "python",
   "name": "lx"
  },
  "language_info": {
   "codemirror_mode": {
    "name": "ipython",
    "version": 3
   },
   "file_extension": ".py",
   "mimetype": "text/x-python",
   "name": "python",
   "nbconvert_exporter": "python",
   "pygments_lexer": "ipython3",
   "version": "3.6.2"
  }
 },
 "nbformat": 4,
 "nbformat_minor": 4
}
