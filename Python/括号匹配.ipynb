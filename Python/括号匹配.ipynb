{
 "cells": [
  {
   "cell_type": "markdown",
   "metadata": {},
   "source": [
    "括弧匹配"
   ]
  },
  {
   "cell_type": "code",
   "execution_count": 1,
   "metadata": {},
   "outputs": [],
   "source": [
    "class Solution:\n",
    "    \"\"\"\n",
    "    @param string: A string\n",
    "    @return: whether the string is a valid parentheses\n",
    "    \"\"\"\n",
    "    def matchParentheses(self, string):\n",
    "        stack = []\n",
    "        if '(' not in string:\n",
    "            return False\n",
    "        for ch in string:\n",
    "            # 压栈\n",
    "            if ch ==  '(':\n",
    "                stack.append(ch)\n",
    "            else:\n",
    "                # 栈需非空\n",
    "#                 if not stack:\n",
    "#                     return False\n",
    "                # 判断栈顶是否匹配\n",
    "                if ch == ')' and not stack:\n",
    "                    return False\n",
    "                if ch == ')' and stack[-1] != '(':\n",
    "                    return False\n",
    "                if ch == ')' and stack[-1] == '(':\n",
    "                # 弹栈\n",
    "                    stack.pop()\n",
    "        return not stack"
   ]
  },
  {
   "cell_type": "code",
   "execution_count": 4,
   "metadata": {},
   "outputs": [
    {
     "data": {
      "text/plain": [
       "True"
      ]
     },
     "execution_count": 4,
     "metadata": {},
     "output_type": "execute_result"
    }
   ],
   "source": [
    "s=\"1(((2)3(),,,))\"\n",
    "a = Solution()\n",
    "a.matchParentheses(s)"
   ]
  },
  {
   "cell_type": "code",
   "execution_count": 13,
   "metadata": {},
   "outputs": [],
   "source": [
    "class Solution(object):\n",
    "    '''\n",
    "    题意：输入一个只包含括号的字符串，判断括号是否匹配\n",
    "    模拟堆栈，读到左括号压栈，读到右括号判断栈顶括号是否匹配\n",
    "    '''\n",
    "    def isValidParentheses(self, s):\n",
    "        stack = []\n",
    "        if '(' not in s:\n",
    "            return False\n",
    "        if '[' not in s:\n",
    "            return False\n",
    "        if '{' not in s:\n",
    "            return False\n",
    "        for ch in s:\n",
    "            # 压栈\n",
    "            if ch == '{' or ch == '[' or ch == '(':\n",
    "                stack.append(ch)\n",
    "            else:\n",
    "                # 栈需非空\n",
    "#                 if not stack:\n",
    "#                     return False\n",
    "                # 判断栈顶是否匹配\n",
    "                if ch == ')' and not stack:\n",
    "                    return False\n",
    "                if ch == '[' and not stack:\n",
    "                    return False\n",
    "                if ch == '{' and not stack:\n",
    "                    return False\n",
    "                if ch == ']' and stack[-1] != '[' or ch == ')' and stack[-1] != '(' or ch == '}' and stack[-1] != '{':\n",
    "                    return False\n",
    "                # 弹栈\n",
    "                if ch == ']' and stack[-1] == '[' or ch == ')' and stack[-1] == '(' or ch == '}' and stack[-1] == '{':\n",
    "                    stack.pop()\n",
    "        return not stack"
   ]
  },
  {
   "cell_type": "code",
   "execution_count": 18,
   "metadata": {},
   "outputs": [
    {
     "data": {
      "text/plain": [
       "True"
      ]
     },
     "execution_count": 18,
     "metadata": {},
     "output_type": "execute_result"
    }
   ],
   "source": [
    "s=\"123(1122)d[]ad{}\"\n",
    "a = Solution()\n",
    "a.isValidParentheses(s)"
   ]
  },
  {
   "cell_type": "code",
   "execution_count": 9,
   "metadata": {},
   "outputs": [],
   "source": [
    "class Solution(object):\n",
    "    '''\n",
    "    题意：输入一个只包含括号的字符串，判断括号是否匹配\n",
    "    模拟堆栈，读到左括号压栈，读到右括号判断栈顶括号是否匹配\n",
    "    '''\n",
    "    def isValidParentheses(self, s):\n",
    "        stack = []\n",
    "        for ch in s:\n",
    "            # 压栈\n",
    "            if ch == '{' or ch == '[' or ch == '(':\n",
    "                stack.append(ch)\n",
    "            else:\n",
    "                # 栈需非空\n",
    "                if not stack:\n",
    "                    return False\n",
    "                # 判断栈顶是否匹配\n",
    "                if ch == ']' and stack[-1] != '[' or ch == ')' and stack[-1] != '(' or ch == '}' and stack[-1] != '{':\n",
    "                    return False\n",
    "                # 弹栈\n",
    "                stack.pop()\n",
    "        return not stack"
   ]
  },
  {
   "cell_type": "code",
   "execution_count": 10,
   "metadata": {},
   "outputs": [
    {
     "data": {
      "text/plain": [
       "True"
      ]
     },
     "execution_count": 10,
     "metadata": {},
     "output_type": "execute_result"
    }
   ],
   "source": [
    "s=\"()[]{}\"\n",
    "a = Solution()\n",
    "a.isValidParentheses(s)"
   ]
  },
  {
   "cell_type": "code",
   "execution_count": null,
   "metadata": {},
   "outputs": [],
   "source": []
  },
  {
   "cell_type": "code",
   "execution_count": null,
   "metadata": {},
   "outputs": [],
   "source": []
  },
  {
   "cell_type": "code",
   "execution_count": null,
   "metadata": {},
   "outputs": [],
   "source": []
  },
  {
   "cell_type": "code",
   "execution_count": 19,
   "metadata": {},
   "outputs": [],
   "source": [
    "def maxConsecutiveSequenceLength(nums):\n",
    "    if not nums:\n",
    "        return 0\n",
    "    \n",
    "    max_length = 1  # 初始化最大长度为1\n",
    "    current_length = 1  # 初始化当前长度为1\n",
    "\n",
    "    for i in range(1, len(nums)):\n",
    "        if abs(nums[i] - nums[i-1]) == 1:\n",
    "            current_length += 1\n",
    "            max_length = max(max_length, current_length)\n",
    "        else:\n",
    "            current_length = 1\n",
    "    \n",
    "    return max_length"
   ]
  },
  {
   "cell_type": "code",
   "execution_count": 24,
   "metadata": {},
   "outputs": [
    {
     "name": "stdout",
     "output_type": "stream",
     "text": [
      "5\n",
      "2\n"
     ]
    }
   ],
   "source": [
    "nums1 = [1, 2, 3, 4, 5]\n",
    "nums2 = [10, 9, 5, 7, 6, 5322]\n",
    "print(maxConsecutiveSequenceLength(nums1)) \n",
    "print(maxConsecutiveSequenceLength(nums2)) "
   ]
  },
  {
   "cell_type": "code",
   "execution_count": null,
   "metadata": {},
   "outputs": [],
   "source": []
  },
  {
   "cell_type": "code",
   "execution_count": 25,
   "metadata": {},
   "outputs": [
    {
     "name": "stdout",
     "output_type": "stream",
     "text": [
      "xxhhx\n"
     ]
    }
   ],
   "source": [
    "def swap_h_and_x(input_str):\n",
    "    # 将字符串转换为列表以便进行字符交换\n",
    "    char_list = list(input_str)\n",
    "\n",
    "    # 遍历列表，交换 'h' 和 'x'\n",
    "    for i in range(len(char_list)):\n",
    "        if char_list[i] == 'h':\n",
    "            char_list[i] = 'x'\n",
    "        elif char_list[i] == 'x':\n",
    "            char_list[i] = 'h'\n",
    "\n",
    "    # 将字符列表转换回字符串\n",
    "    result_str = ''.join(char_list)\n",
    "\n",
    "    return result_str\n",
    "\n",
    "# 测试用例\n",
    "input_str = \"hhxxh\"\n",
    "output_str = swap_h_and_x(input_str)\n",
    "print(output_str)  # 输出 \"xxhhx\"\n"
   ]
  },
  {
   "cell_type": "code",
   "execution_count": null,
   "metadata": {},
   "outputs": [],
   "source": []
  }
 ],
 "metadata": {
  "kernelspec": {
   "display_name": "lx",
   "language": "python",
   "name": "lx"
  },
  "language_info": {
   "codemirror_mode": {
    "name": "ipython",
    "version": 3
   },
   "file_extension": ".py",
   "mimetype": "text/x-python",
   "name": "python",
   "nbconvert_exporter": "python",
   "pygments_lexer": "ipython3",
   "version": "3.6.2"
  }
 },
 "nbformat": 4,
 "nbformat_minor": 4
}
