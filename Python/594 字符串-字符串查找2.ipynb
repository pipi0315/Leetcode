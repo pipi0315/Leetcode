{
 "cells": [
  {
   "cell_type": "markdown",
   "metadata": {},
   "source": [
    "### 描述\n",
    "实现时间复杂度为 O(n + m)的方法 strStr。\n",
    "strStr 返回目标字符串在源字符串中第一次出现的第一个字符的位置. 目标字串的长度为 m , 源字串的长度为 n . 如果目标字串不在源字串中则返回 -1。"
   ]
  },
  {
   "cell_type": "code",
   "execution_count": 6,
   "metadata": {},
   "outputs": [],
   "source": [
    "class Solution:\n",
    "    def str_str2(self, source: str, target: str):\n",
    "        n,m = len(target), len(source)\n",
    "        # 重点1：任何代码都要进行异常检测\n",
    "        if n >m : return -1\n",
    "        cnt1, cnt2 = [0] * 26, [0] * 26\n",
    "        # 计算字符串s1，s2前len(s1)中每个字符的位置和出现次数\n",
    "        for i in range(n):\n",
    "            # 重点1：异常检测\n",
    "            if ord(target[i]) - ord('a') < 0:\n",
    "                return -1\n",
    "            cnt1[ord(target[i]) - ord('a')] += 1\n",
    "            cnt2[ord(source[i]) - ord('a')] += 1\n",
    "        if cnt1 == cnt2:\n",
    "            return 0\n",
    "        for i in range(n,m):\n",
    "            # 计算字符串s2后len(s2)-len(s1)中每个字符串出现的位置和出现次数\n",
    "            cnt2[ord(source[i])- ord('a')] += 1\n",
    "            # 清除掉s2中前i-n个字符 保证cnt1,cnnt2中记录的字符个数相同，每计算一个len(s1)长度后的s2字符，前面就会清除掉一个s2字符的记录\n",
    "            cnt2[ord(source[i-n]) - ord('a')] -= 1\n",
    "            if cnt1 == cnt2:\n",
    "                return i-n+1\n",
    "        return -1\n",
    "            "
   ]
  },
  {
   "cell_type": "code",
   "execution_count": 8,
   "metadata": {},
   "outputs": [
    {
     "data": {
      "text/plain": [
       "1"
      ]
     },
     "execution_count": 8,
     "metadata": {},
     "output_type": "execute_result"
    }
   ],
   "source": [
    "source = \"abcdef\"\n",
    "target = \"bcd\"\n",
    "a = Solution()\n",
    "a.str_str2(source,target)"
   ]
  },
  {
   "cell_type": "code",
   "execution_count": 9,
   "metadata": {},
   "outputs": [
    {
     "data": {
      "text/plain": [
       "65"
      ]
     },
     "execution_count": 9,
     "metadata": {},
     "output_type": "execute_result"
    }
   ],
   "source": [
    "ord(\"A\")"
   ]
  },
  {
   "cell_type": "code",
   "execution_count": 23,
   "metadata": {},
   "outputs": [
    {
     "data": {
      "text/plain": [
       "32"
      ]
     },
     "execution_count": 23,
     "metadata": {},
     "output_type": "execute_result"
    }
   ],
   "source": [
    "ord(\" \")"
   ]
  },
  {
   "cell_type": "code",
   "execution_count": 24,
   "metadata": {},
   "outputs": [],
   "source": [
    "class Solution:\n",
    "    def str_str2(self, source: str, target: str):\n",
    "        n,m = len(target), len(source)\n",
    "        # 重点1：任何代码都要进行异常检测\n",
    "        if n >m : return -1\n",
    "        cnt1, cnt2 = [0] * 256, [0] * 256\n",
    "        # 计算字符串s1，s2前len(s1)中每个字符的位置和出现次数\n",
    "        for i in range(n):\n",
    "            # 重点1：异常检测\n",
    "            cnt1[ord(target[i]) - ord(' ')] += 1\n",
    "            cnt2[ord(source[i]) - ord(' ')] += 1\n",
    "        if cnt1 == cnt2:\n",
    "            return 0\n",
    "        for i in range(n,m):\n",
    "            # 计算字符串s2后len(s2)-len(s1)中每个字符串出现的位置和出现次数\n",
    "            cnt2[ord(source[i])- ord(' ')] += 1\n",
    "            # 清除掉s2中前i-n个字符 保证cnt1,cnnt2中记录的字符个数相同，每计算一个len(s1)长度后的s2字符，前面就会清除掉一个s2字符的记录\n",
    "            cnt2[ord(source[i-n]) - ord(' ')] -= 1\n",
    "            if cnt1 == cnt2:\n",
    "                return i-n+1\n",
    "        return -1\n",
    "            "
   ]
  },
  {
   "cell_type": "code",
   "execution_count": 39,
   "metadata": {},
   "outputs": [
    {
     "data": {
      "text/plain": [
       "0"
      ]
     },
     "execution_count": 39,
     "metadata": {},
     "output_type": "execute_result"
    }
   ],
   "source": [
    "source = \"a,bcdef\"\n",
    "target = \"a,\"\n",
    "a = Solution()\n",
    "a.str_str2(source,target)"
   ]
  },
  {
   "cell_type": "code",
   "execution_count": 43,
   "metadata": {},
   "outputs": [],
   "source": [
    "from os import error\n",
    "import sys\n",
    "\n",
    "# for line in sys.stdin:\n",
    "#     a = line.split()\n",
    "#     print(int(a[0]) + int(a[1]))\n",
    "class Solution:\n",
    "\n",
    "    def demo1(self, c:int, a:[float], b:[float], x: float, y: float):\n",
    "        sum_money1 = 0\n",
    "        sum_money2 = 0\n",
    "        # n1 = len(a)\n",
    "        # n2 = len(b)\n",
    "#         if n1 != n2:\n",
    "#             return error\n",
    "        for i in range(c):\n",
    "            if b[i] > a[i]:\n",
    "                return error\n",
    "            sum_money1 += a[i] \n",
    "            sum_money2 += b[i]\n",
    "        if sum_money2 > x:\n",
    "            sum_money2 = sum_money2 - y\n",
    "        sum_money1 = min(sum_money1,sum_money2)\n",
    "        print(sum_money1)\n",
    "        return sum_money1\n"
   ]
  },
  {
   "cell_type": "code",
   "execution_count": 44,
   "metadata": {},
   "outputs": [
    {
     "name": "stdout",
     "output_type": "stream",
     "text": [
      "12.0\n"
     ]
    },
    {
     "data": {
      "text/plain": [
       "12.0"
      ]
     },
     "execution_count": 44,
     "metadata": {},
     "output_type": "execute_result"
    }
   ],
   "source": [
    "a = Solution()\n",
    "a.demo1(2,[10,10],[5.5,6.5],15,3)"
   ]
  },
  {
   "cell_type": "code",
   "execution_count": 55,
   "metadata": {},
   "outputs": [],
   "source": [
    "from os import error\n",
    "import sys\n",
    "\n",
    "# for line in sys.stdin:\n",
    "#     a = line.split()\n",
    "#     print(int(a[0]) + int(a[1]))\n",
    "class Solution:\n",
    "\n",
    "    def demo1(self, c:int, a:[float], b:[float], x: float, y: float):\n",
    "        sum_money1 = 0\n",
    "        sum_money2 = 0\n",
    "        # n1 = len(a)\n",
    "        # n2 = len(b)\n",
    "        # if n1 != n2:\n",
    "        #     return error\n",
    "        for i in range(c):\n",
    "            if b[i] > a[i]:\n",
    "                print(\"error\")\n",
    "                return 0\n",
    "            sum_money1 += a[i] \n",
    "            sum_money2 += b[i]\n",
    "        if sum_money2 > x:\n",
    "            sum_money2 = sum_money2 - y\n",
    "        sum_money1 = min(sum_money1,sum_money2)\n",
    "        print(sum_money1)\n",
    "#         return 0\n"
   ]
  },
  {
   "cell_type": "code",
   "execution_count": 57,
   "metadata": {},
   "outputs": [
    {
     "name": "stdout",
     "output_type": "stream",
     "text": [
      "error\n"
     ]
    },
    {
     "data": {
      "text/plain": [
       "0"
      ]
     },
     "execution_count": 57,
     "metadata": {},
     "output_type": "execute_result"
    }
   ],
   "source": [
    "a = Solution()\n",
    "a.demo1(2,[10,11],[15.5,6.5],15,3)"
   ]
  },
  {
   "cell_type": "code",
   "execution_count": null,
   "metadata": {},
   "outputs": [],
   "source": []
  }
 ],
 "metadata": {
  "kernelspec": {
   "display_name": "lx",
   "language": "python",
   "name": "lx"
  },
  "language_info": {
   "codemirror_mode": {
    "name": "ipython",
    "version": 3
   },
   "file_extension": ".py",
   "mimetype": "text/x-python",
   "name": "python",
   "nbconvert_exporter": "python",
   "pygments_lexer": "ipython3",
   "version": "3.6.2"
  }
 },
 "nbformat": 4,
 "nbformat_minor": 4
}
