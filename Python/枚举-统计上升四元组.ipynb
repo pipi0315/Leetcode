{
 "cells": [
  {
   "cell_type": "markdown",
   "metadata": {},
   "source": [
    "## 枚举-统计上升四元组"
   ]
  },
  {
   "cell_type": "markdown",
   "metadata": {},
   "source": [
    "给你一个长度为 n 下标从 0 开始的整数数组 nums ，它包含 1 到 n 的所有数字，请你返回上升四元组的数目。\n",
    "如果一个四元组 (i, j, k, l) 满足以下条件，我们称它是上升的：\n",
    "0 <= i < j < k < l < n 且\n",
    "nums[i] < nums[k] < nums[j] < nums[l] 。\n",
    " \n",
    "\n"
   ]
  },
  {
   "cell_type": "code",
   "execution_count": 19,
   "metadata": {},
   "outputs": [],
   "source": [
    "class Solution:\n",
    "    def countQuadruplets(self, nums):\n",
    "        ans = 0\n",
    "        n = len(nums)\n",
    "        cnt = [0] * n\n",
    "        for l in range(0, n):\n",
    "            x = 0\n",
    "            for j in range(0, l):\n",
    "                if nums[j] < nums[l]:\n",
    "                    ans += cnt[j]\n",
    "                    x += 1\n",
    "                else:\n",
    "                    cnt[j] += x\n",
    "        return ans"
   ]
  },
  {
   "cell_type": "code",
   "execution_count": 20,
   "metadata": {},
   "outputs": [
    {
     "data": {
      "text/plain": [
       "2"
      ]
     },
     "execution_count": 20,
     "metadata": {},
     "output_type": "execute_result"
    }
   ],
   "source": [
    "nums = [1, 3, 2, 4, 5]\n",
    "dp = Solution()\n",
    "dp.countQuadruplets(nums)"
   ]
  },
  {
   "cell_type": "code",
   "execution_count": 13,
   "metadata": {},
   "outputs": [],
   "source": [
    "class Solution:\n",
    "    def countQuadruplets(self, nums):\n",
    "        ans = 0\n",
    "        n = len(nums)\n",
    "        for i in range(0, n):\n",
    "            for j in range(i+1, n):\n",
    "                for k in range(j+1, n):\n",
    "                    for l in range(k+1, n):\n",
    "                        if nums[i] < nums[k] < nums[j] < nums[l]:\n",
    "                            ans += 1\n",
    "        return ans"
   ]
  },
  {
   "cell_type": "code",
   "execution_count": 14,
   "metadata": {},
   "outputs": [
    {
     "data": {
      "text/plain": [
       "2"
      ]
     },
     "execution_count": 14,
     "metadata": {},
     "output_type": "execute_result"
    }
   ],
   "source": [
    "nums = [1, 3, 2, 4, 5]\n",
    "dp = Solution()\n",
    "dp.countQuadruplets(nums)"
   ]
  },
  {
   "cell_type": "code",
   "execution_count": 15,
   "metadata": {},
   "outputs": [],
   "source": [
    "class Solution:\n",
    "    def countQuadruplets(self, nums):\n",
    "        ans = 0\n",
    "        n = len(nums)\n",
    "        for i in range(0, n):\n",
    "            for j in range(i+1, n):\n",
    "                for k in range(j+1, n):\n",
    "                    if nums[i] >= nums[k]: continue\n",
    "                    if nums[k] >= nums[j]: continue\n",
    "                    for l in range(k+1, n):\n",
    "                        if nums[j] < nums[l]:\n",
    "                            ans += 1\n",
    "        return ans"
   ]
  },
  {
   "cell_type": "code",
   "execution_count": 16,
   "metadata": {},
   "outputs": [
    {
     "data": {
      "text/plain": [
       "2"
      ]
     },
     "execution_count": 16,
     "metadata": {},
     "output_type": "execute_result"
    }
   ],
   "source": [
    "nums = [1, 3, 2, 4, 5]\n",
    "dp = Solution()\n",
    "dp.countQuadruplets(nums)"
   ]
  },
  {
   "cell_type": "code",
   "execution_count": 17,
   "metadata": {},
   "outputs": [],
   "source": [
    "class Solution:\n",
    "    def countQuadruplets(self, nums):\n",
    "        ans = 0\n",
    "        n = len(nums)\n",
    "        for j in range(1, n):\n",
    "                for k in range(j+1, n):\n",
    "                    if nums[k] >= nums[j]: continue\n",
    "                    less = 0\n",
    "                    for i in range(0, j):\n",
    "                        if nums[i] < nums[j]:\n",
    "                            less += 1\n",
    "                    bigger = 0\n",
    "                    for l in range(k+1, n):\n",
    "                        if nums[k] < nums[l]:\n",
    "                            bigger += 1\n",
    "                    ans += less * bigger\n",
    "        return ans"
   ]
  },
  {
   "cell_type": "code",
   "execution_count": 18,
   "metadata": {},
   "outputs": [
    {
     "data": {
      "text/plain": [
       "2"
      ]
     },
     "execution_count": 18,
     "metadata": {},
     "output_type": "execute_result"
    }
   ],
   "source": [
    "nums = [1, 3, 2, 4, 5]\n",
    "dp = Solution()\n",
    "dp.countQuadruplets(nums)"
   ]
  },
  {
   "cell_type": "code",
   "execution_count": null,
   "metadata": {},
   "outputs": [],
   "source": []
  }
 ],
 "metadata": {
  "kernelspec": {
   "display_name": "lx",
   "language": "python",
   "name": "lx"
  },
  "language_info": {
   "codemirror_mode": {
    "name": "ipython",
    "version": 3
   },
   "file_extension": ".py",
   "mimetype": "text/x-python",
   "name": "python",
   "nbconvert_exporter": "python",
   "pygments_lexer": "ipython3",
   "version": "3.6.2"
  }
 },
 "nbformat": 4,
 "nbformat_minor": 4
}
