{
 "cells": [
  {
   "cell_type": "markdown",
   "metadata": {},
   "source": [
    "## 114-不同的路径"
   ]
  },
  {
   "cell_type": "markdown",
   "metadata": {},
   "source": [
    "有一个机器人的位于一个 m×n 个网格左上角。\n",
    "\n",
    "机器人每一时刻只能向下或者向右移动一步。机器人试图达到网格的右下角。\n",
    "\n",
    "问有多少条不同的路径？"
   ]
  },
  {
   "cell_type": "markdown",
   "metadata": {},
   "source": [
    "1、确定状态  \n",
    "·最后一步-最优策略中到达网络右下角的不同路径dp[m][n]  \n",
    "·化成子问题-有多少路径可以到达dp[m-1][n]和dp[m][n-1]   \n",
    "2、转移方程  \n",
    "·dp[m][n] = dp[m-1][n] + dp[m][n-1]  \n",
    "3、初始条件和边界情况  \n",
    "·d[0][0] = 1，若m = 0 或 n = 0，表示为行矩阵和列矩阵，dp[m][n] = 1  "
   ]
  },
  {
   "cell_type": "code",
   "execution_count": 80,
   "metadata": {},
   "outputs": [],
   "source": [
    "class Solution:\n",
    "    \"\"\"\n",
    "    @param m: positive integer (1 <= m <= 100)\n",
    "    @param n: positive integer (1 <= n <= 100)\n",
    "    @return: An integer\n",
    "    \"\"\"\n",
    "    def unique_paths(self, m: int, n: int) -> int:\n",
    "        # write your code here\n",
    "        # dp = [[1] * m] + [[0] * m] * (n-1)\n",
    "        dp = [[1] * n for _ in range(m)]\n",
    "        dp[0][0]=1\n",
    "        for i in range(1,m):\n",
    "            for j in range(1,n):\n",
    "                if i == 0 or j == 0:\n",
    "                    dp[i][j] = 1\n",
    "                else:\n",
    "                    dp[i][j] = dp[i-1][j] + dp[i][j-1]\n",
    "        return dp[m-1][n-1]\n",
    "                "
   ]
  },
  {
   "cell_type": "code",
   "execution_count": 104,
   "metadata": {},
   "outputs": [
    {
     "data": {
      "text/plain": [
       "62"
      ]
     },
     "execution_count": 104,
     "metadata": {},
     "output_type": "execute_result"
    }
   ],
   "source": [
    "a = Solution()\n",
    "a.unique_paths(2,62)"
   ]
  },
  {
   "cell_type": "code",
   "execution_count": 108,
   "metadata": {},
   "outputs": [],
   "source": [
    "class Solution:\n",
    "    def uniquePaths(self, m: int, n: int) -> int:\n",
    "        f = [[1] * n] + [[1] + [0] * (n - 1) for _ in range(m - 1)]\n",
    "#         print(f)\n",
    "        for i in range(1, m):\n",
    "            for j in range(1, n ):\n",
    "                f[i][j] = f[i - 1][j] + f[i][j - 1]\n",
    "        return f[m - 1][n - 1] "
   ]
  },
  {
   "cell_type": "code",
   "execution_count": 109,
   "metadata": {},
   "outputs": [
    {
     "data": {
      "text/plain": [
       "62"
      ]
     },
     "execution_count": 109,
     "metadata": {},
     "output_type": "execute_result"
    }
   ],
   "source": [
    "a = Solution()\n",
    "a.uniquePaths(2,62)"
   ]
  },
  {
   "cell_type": "code",
   "execution_count": 110,
   "metadata": {},
   "outputs": [],
   "source": [
    "import math\n",
    "class Solution:\n",
    "    def uniquePaths(self, m: int, n: int) -> int:\n",
    "        return math.comb(m + n - 2, n - 1)"
   ]
  },
  {
   "cell_type": "code",
   "execution_count": null,
   "metadata": {},
   "outputs": [],
   "source": []
  }
 ],
 "metadata": {
  "kernelspec": {
   "display_name": "lx",
   "language": "python",
   "name": "lx"
  },
  "language_info": {
   "codemirror_mode": {
    "name": "ipython",
    "version": 3
   },
   "file_extension": ".py",
   "mimetype": "text/x-python",
   "name": "python",
   "nbconvert_exporter": "python",
   "pygments_lexer": "ipython3",
   "version": "3.6.2"
  }
 },
 "nbformat": 4,
 "nbformat_minor": 4
}
