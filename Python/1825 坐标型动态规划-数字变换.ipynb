{
 "cells": [
  {
   "cell_type": "markdown",
   "metadata": {},
   "source": [
    "## 1825 坐标型动态规划-数字变换"
   ]
  },
  {
   "cell_type": "markdown",
   "metadata": {},
   "source": [
    "给定一个正整数\n",
    "k，你需要使用以下两种操作，将0变为k：\n",
    "\n",
    "对操作数加一  \n",
    "对操作数乘二  \n",
    "你需要写一个函数，返回使0变为k的最少操作数"
   ]
  },
  {
   "cell_type": "code",
   "execution_count": 1,
   "metadata": {},
   "outputs": [],
   "source": [
    "class Solution:\n",
    "    \"\"\"\n",
    "    @param k: integer k\n",
    "    @return: minimum number of operations that change 0 to k\n",
    "    \"\"\"\n",
    "    def number_change(self, k: int) -> int:\n",
    "        # # write your code here\n",
    "        step=bin(k)[2:]\n",
    "        step = len(step) + step.count('1') -1\n",
    "        return step"
   ]
  },
  {
   "cell_type": "code",
   "execution_count": 2,
   "metadata": {},
   "outputs": [
    {
     "data": {
      "text/plain": [
       "3"
      ]
     },
     "execution_count": 2,
     "metadata": {},
     "output_type": "execute_result"
    }
   ],
   "source": [
    "a = Solution()\n",
    "a.number_change(4)"
   ]
  },
  {
   "cell_type": "code",
   "execution_count": 5,
   "metadata": {},
   "outputs": [],
   "source": [
    "class Solution:\n",
    "    \"\"\"\n",
    "    @param k: integer k\n",
    "    @return: minimum number of operations that change 0 to k\n",
    "    \"\"\"\n",
    "    def number_change(self, k: int) -> int:\n",
    "        # # write your code here\n",
    "        a = 0\n",
    "        while k !=0:\n",
    "          if k % 2 == 0:\n",
    "             k = k / 2\n",
    "             a += 1\n",
    "          else:\n",
    "            k = k - 1\n",
    "            a += 1\n",
    "        return a"
   ]
  },
  {
   "cell_type": "code",
   "execution_count": 6,
   "metadata": {},
   "outputs": [
    {
     "data": {
      "text/plain": [
       "10"
      ]
     },
     "execution_count": 6,
     "metadata": {},
     "output_type": "execute_result"
    }
   ],
   "source": [
    "a = Solution()\n",
    "a.number_change(99)"
   ]
  },
  {
   "cell_type": "code",
   "execution_count": 26,
   "metadata": {},
   "outputs": [
    {
     "name": "stdout",
     "output_type": "stream",
     "text": [
      "[0, 'a', 'b', 'c', 'd']\n",
      "0\n",
      "1\n",
      "1\n",
      "4\n",
      "2\n"
     ]
    }
   ],
   "source": [
    "s = \"abccccdd\"\n",
    "s = list(s)\n",
    "dp = [0]\n",
    "for i in s:\n",
    "    if i in dp:\n",
    "        continue\n",
    "    else:\n",
    "        dp.append(i)\n",
    "print(dp)\n",
    "for j in dp:\n",
    "    v = s.count(j)\n",
    "    print(v)"
   ]
  },
  {
   "cell_type": "code",
   "execution_count": 28,
   "metadata": {},
   "outputs": [
    {
     "data": {
      "text/plain": [
       "1"
      ]
     },
     "execution_count": 28,
     "metadata": {},
     "output_type": "execute_result"
    }
   ],
   "source": []
  },
  {
   "cell_type": "code",
   "execution_count": null,
   "metadata": {},
   "outputs": [],
   "source": []
  }
 ],
 "metadata": {
  "kernelspec": {
   "display_name": "lx",
   "language": "python",
   "name": "lx"
  },
  "language_info": {
   "codemirror_mode": {
    "name": "ipython",
    "version": 3
   },
   "file_extension": ".py",
   "mimetype": "text/x-python",
   "name": "python",
   "nbconvert_exporter": "python",
   "pygments_lexer": "ipython3",
   "version": "3.6.2"
  }
 },
 "nbformat": 4,
 "nbformat_minor": 4
}
