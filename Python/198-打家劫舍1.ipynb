{
 "cells": [
  {
   "cell_type": "markdown",
   "metadata": {},
   "source": [
    "## 198-打家劫舍1"
   ]
  },
  {
   "cell_type": "markdown",
   "metadata": {},
   "source": [
    "你是一个专业的小偷，计划偷窃沿街的房屋。每间房内都藏有一定的现金，影响你偷窃的唯一制约因素就是相邻的房屋装有相互连通的防盗系统，如果两间相邻的房屋在同一晚上被小偷闯入，系统会自动报警。\n",
    "\n",
    "给定一个代表每个房屋存放金额的非负整数数组，计算你 不触动警报装置的情况下 ，一夜之内能够偷窃到的最高金额。"
   ]
  },
  {
   "cell_type": "code",
   "execution_count": 19,
   "metadata": {},
   "outputs": [],
   "source": [
    "class Solution:\n",
    "    def rob(self, nums):\n",
    "        if nums == []:\n",
    "            return 0\n",
    "        n = len(nums)\n",
    "        # if n == 0:\n",
    "        #     return 0\n",
    "        dp = [0]*n\n",
    "        dp[0] = nums[0] # 初始化\n",
    "        for i in range(1, n):\n",
    "            if i == 1:\n",
    "                dp[1] = max(nums[0], nums[1])# 初始化\n",
    "            else:\n",
    "                dp[i] = max(dp[i-1], dp[i-2] + nums[i])# 状态转移方程\n",
    "        return dp[n-1]\n"
   ]
  },
  {
   "cell_type": "code",
   "execution_count": 20,
   "metadata": {},
   "outputs": [
    {
     "data": {
      "text/plain": [
       "12"
      ]
     },
     "execution_count": 20,
     "metadata": {},
     "output_type": "execute_result"
    }
   ],
   "source": [
    "case = [2,7,9,3,1]\n",
    "a = Solution()\n",
    "a.rob(case)"
   ]
  },
  {
   "cell_type": "code",
   "execution_count": 15,
   "metadata": {},
   "outputs": [],
   "source": [
    "class Solution:\n",
    "    def rob(self, nums):\n",
    "        n = len(nums)\n",
    "        dp = [0]*n\n",
    "        for i in range(n):\n",
    "            if i == 0:\n",
    "                dp[0] = nums[0] # 初始化\n",
    "            if i == 1:\n",
    "                dp[1] = max(nums[0], nums[1])# 初始化\n",
    "            else:\n",
    "                dp[i] = max(dp[i-1], dp[i-2] + nums[i])# 状态转移方程\n",
    "        return dp[n-1]"
   ]
  },
  {
   "cell_type": "code",
   "execution_count": 16,
   "metadata": {},
   "outputs": [
    {
     "data": {
      "text/plain": [
       "12"
      ]
     },
     "execution_count": 16,
     "metadata": {},
     "output_type": "execute_result"
    }
   ],
   "source": [
    "case = [2,7,9,3,1]\n",
    "a = Solution()\n",
    "a.rob(case)"
   ]
  },
  {
   "cell_type": "code",
   "execution_count": null,
   "metadata": {},
   "outputs": [],
   "source": []
  }
 ],
 "metadata": {
  "kernelspec": {
   "display_name": "lx",
   "language": "python",
   "name": "lx"
  },
  "language_info": {
   "codemirror_mode": {
    "name": "ipython",
    "version": 3
   },
   "file_extension": ".py",
   "mimetype": "text/x-python",
   "name": "python",
   "nbconvert_exporter": "python",
   "pygments_lexer": "ipython3",
   "version": "3.6.2"
  }
 },
 "nbformat": 4,
 "nbformat_minor": 4
}
