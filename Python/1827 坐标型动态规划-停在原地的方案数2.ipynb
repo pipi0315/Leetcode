{
 "cells": [
  {
   "cell_type": "markdown",
   "metadata": {},
   "source": [
    "## 1827 坐标型动态规划-停在原地的方案数2"
   ]
  },
  {
   "cell_type": "markdown",
   "metadata": {},
   "source": [
    "有一个长度为 \n",
    "\n",
    "arrLen 的数组，开始有一个指针在索引 0 处。\n",
    "\n",
    "每一步操作中，你可以将指针向左或向右移动 \n",
    "1 步，或者停在原地（指针不能被移动到数组范围外）。\n",
    "\n",
    "给你两个整数 steps 和 arrLen ，请你计算并返回：在恰好执行 \n",
    "steps 次操作以后，指针仍然指向索引 0 处的方案数。\n",
    "\n",
    "由于答案可能会很大，请返回方案数 模 \n",
    "1000000007 后的结果"
   ]
  },
  {
   "cell_type": "markdown",
   "metadata": {},
   "source": [
    "思路：滚动DP数组，当step多的时候长度为原数组长度，否则只需要steps一半的长度，因为走超过一半steps还不折返的cases肯定回不到原点。\n",
    "转移方程 dp[i] = dp[i - 1] + dp[i] + dp[i + 1]，需要额外两个变量来记忆上一轮的dp[i - 1]。"
   ]
  },
  {
   "cell_type": "code",
   "execution_count": 10,
   "metadata": {},
   "outputs": [],
   "source": [
    "class Solution:\n",
    "    \"\"\"\n",
    "    @param steps: steps you can move\n",
    "    @param arrLen: the length of the array\n",
    "    @return: Number of Ways to Stay in the Same Place After Some Steps\n",
    "    \"\"\"\n",
    "    def numWays(self, steps, arrLen):\n",
    "        # write your code here\n",
    "        arrLen = min(arrLen, steps // 2 + 1)\n",
    "        dp = [1] + [0] * (arrLen - 1)\n",
    "        for _ in range(steps):\n",
    "            mem = [0, 0]\n",
    "            for i in range(arrLen):\n",
    "                mem = [mem[1], dp[i]]\n",
    "                dp[i] += (mem[0] + dp[i + 1]) if i != arrLen - 1 else mem[0]\n",
    "        return dp[0] % (10 ** 9 + 7)\n"
   ]
  },
  {
   "cell_type": "code",
   "execution_count": 12,
   "metadata": {},
   "outputs": [
    {
     "data": {
      "text/plain": [
       "9"
      ]
     },
     "execution_count": 12,
     "metadata": {},
     "output_type": "execute_result"
    }
   ],
   "source": [
    "a = Solution()\n",
    "a.numWays(4,7)"
   ]
  },
  {
   "cell_type": "code",
   "execution_count": 8,
   "metadata": {},
   "outputs": [],
   "source": [
    "class Solution:\n",
    "    \"\"\"\n",
    "    @param steps: steps you can move\n",
    "    @param arr_len: the length of the array\n",
    "    @return: Number of Ways to Stay in the Same Place After Some Steps\n",
    "    \"\"\"\n",
    "    def num_ways(self, steps: int, arr_len: int) -> int:\n",
    "        # write your code here\n",
    "        MOD = 1000000007\n",
    "        maxColumn = min(arr_len - 1, steps)\n",
    "        arr = [0] * (maxColumn + 1)\n",
    "        arr[0] = 1\n",
    "        for i in range(1, steps + 1):\n",
    "            dpNext = [0] * (maxColumn + 1)\n",
    "            for j in range(0, maxColumn + 1):\n",
    "                dpNext[j] = arr[j]\n",
    "                if j - 1 >= 0 :\n",
    "                    dpNext[j] = (dpNext[j] + arr[j-1]) % MOD\n",
    "                if j + 1 <= maxColumn:\n",
    "                    dpNext[j] = (dpNext[j] + arr[j + 1]) % MOD\n",
    "            arr = dpNext\n",
    "        return arr[0]\n",
    "           "
   ]
  },
  {
   "cell_type": "code",
   "execution_count": 9,
   "metadata": {},
   "outputs": [
    {
     "data": {
      "text/plain": [
       "4"
      ]
     },
     "execution_count": 9,
     "metadata": {},
     "output_type": "execute_result"
    }
   ],
   "source": [
    "a = Solution()\n",
    "a.num_ways(3,2)"
   ]
  },
  {
   "cell_type": "code",
   "execution_count": null,
   "metadata": {},
   "outputs": [],
   "source": []
  }
 ],
 "metadata": {
  "kernelspec": {
   "display_name": "lx",
   "language": "python",
   "name": "lx"
  },
  "language_info": {
   "codemirror_mode": {
    "name": "ipython",
    "version": 3
   },
   "file_extension": ".py",
   "mimetype": "text/x-python",
   "name": "python",
   "nbconvert_exporter": "python",
   "pygments_lexer": "ipython3",
   "version": "3.6.2"
  }
 },
 "nbformat": 4,
 "nbformat_minor": 4
}
