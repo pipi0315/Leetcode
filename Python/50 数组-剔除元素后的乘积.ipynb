{
 "cells": [
  {
   "cell_type": "markdown",
   "metadata": {},
   "source": [
    "## 50 数组-剔除元素后的乘积"
   ]
  },
  {
   "cell_type": "markdown",
   "metadata": {},
   "source": [
    "给定一个整数数组A。\n",
    "\n",
    "定义B[i]=A[0]∗...∗A[i−1]∗A[i+1]∗...∗A[n−1]， 计算B的时候请不要使用除法。请输出B。\n",
    "\n"
   ]
  },
  {
   "cell_type": "code",
   "execution_count": 40,
   "metadata": {},
   "outputs": [],
   "source": [
    "class Solution:\n",
    "    \"\"\"\n",
    "    @param: nums: Given an integers array A\n",
    "    @return: A long long array B and B[i]= A[0] * ... * A[i-1] * A[i+1] * ... * A[n-1]\n",
    "    \"\"\"\n",
    "    def productExcludeItself(self, nums):\n",
    "        # write your code here\n",
    "        B=[]\n",
    "        #nums1=nums.copy()\n",
    "        \n",
    "        for i in range(0,len(nums)):\n",
    "            a=1\n",
    "            nums1=nums.copy()\n",
    "            nums1.remove(nums[i])\n",
    "            print(nums1)          \n",
    "            for j in nums1:\n",
    "                a*=j           \n",
    "            B.append(a)\n",
    "        return B"
   ]
  },
  {
   "cell_type": "markdown",
   "metadata": {},
   "source": [
    "测试  \n",
    "输入A = [1,2,3]  \n",
    "输出[6,3,2]"
   ]
  },
  {
   "cell_type": "code",
   "execution_count": 41,
   "metadata": {},
   "outputs": [
    {
     "name": "stdout",
     "output_type": "stream",
     "text": [
      "[2, 3]\n",
      "[1, 3]\n",
      "[1, 2]\n"
     ]
    },
    {
     "data": {
      "text/plain": [
       "[6, 3, 2]"
      ]
     },
     "execution_count": 41,
     "metadata": {},
     "output_type": "execute_result"
    }
   ],
   "source": [
    "nums = [1,2,3]\n",
    "a = Solution()\n",
    "a.productExcludeItself(nums)"
   ]
  },
  {
   "cell_type": "markdown",
   "metadata": {},
   "source": [
    "时间复杂度：O(N2）  "
   ]
  },
  {
   "cell_type": "code",
   "execution_count": 59,
   "metadata": {},
   "outputs": [],
   "source": [
    "class Solution1:\n",
    "    def productExcludeItself(self, arry):\n",
    "        length = len(arry)\n",
    "        answer = [0]*length  # 等价于answer = [0 for _ in range(len(nums))]\n",
    "        \n",
    "        answer[0]=1\n",
    "        # 先计算左边的累积乘积\n",
    "        for i in range(1, length):\n",
    "            answer[i] = arry[i-1] * answer[i-1]\n",
    "        # 计算右边的乘积，然后左右相乘为最后的结果\n",
    "        R = 1\n",
    "        for i in reversed(range(length)):\n",
    "            answer[i] = answer[i] * R\n",
    "            R = R * arry[i]\n",
    "        return answer"
   ]
  },
  {
   "cell_type": "code",
   "execution_count": 60,
   "metadata": {},
   "outputs": [
    {
     "data": {
      "text/plain": [
       "[6, 3, 2]"
      ]
     },
     "execution_count": 60,
     "metadata": {},
     "output_type": "execute_result"
    }
   ],
   "source": [
    "nums = [1,2,3]\n",
    "a = Solution1()\n",
    "a.productExcludeItself(nums)"
   ]
  },
  {
   "cell_type": "markdown",
   "metadata": {},
   "source": [
    "时间复杂度：O(N） "
   ]
  },
  {
   "cell_type": "code",
   "execution_count": 63,
   "metadata": {},
   "outputs": [],
   "source": [
    "class Solution2:\n",
    "    def productExcludeItself(self, arry):\n",
    "        length = len(arry)\n",
    "        if length == 0:\n",
    "            return []\n",
    "        L, R, answer = [0]*length, [0]*length, [0]*length\n",
    "        \n",
    "        # L,R分别为左右两侧乘积列表\n",
    "        L[0]=1\n",
    "        # 先计算左边的累积乘积\n",
    "        for i in range(1, length):\n",
    "            L[i] = arry[i-1] * L[i-1]\n",
    "        # 计算右边的乘积，有右侧没有元素，所以 R[length - 1]= 1\n",
    "        R[length - 1] = 1\n",
    "        for i in reversed(range(length-1)):\n",
    "            R[i] = arry[i +1 ] * R[i + 1]\n",
    "        # 对于索引i,除了 arry[i]之外其余各元素的乘积就是左侧所有元素的乘积乘以右侧所有元素的乘积\n",
    "        for i in range(length):\n",
    "            answer[i] = L[i] * R[i]\n",
    "        return answer"
   ]
  },
  {
   "cell_type": "code",
   "execution_count": 64,
   "metadata": {},
   "outputs": [
    {
     "data": {
      "text/plain": [
       "[6, 3, 2]"
      ]
     },
     "execution_count": 64,
     "metadata": {},
     "output_type": "execute_result"
    }
   ],
   "source": [
    "nums = [1,2,3]\n",
    "a = Solution2()\n",
    "a.productExcludeItself(nums)"
   ]
  },
  {
   "cell_type": "markdown",
   "metadata": {},
   "source": [
    "时间复杂度：O(N） "
   ]
  },
  {
   "cell_type": "code",
   "execution_count": 96,
   "metadata": {},
   "outputs": [],
   "source": [
    "class Solution3:\n",
    "    def productExcludeItself(self, arry):\n",
    "        length = len(arry)\n",
    "        if length == 0:\n",
    "            return []\n",
    "        answer = []\n",
    "        \n",
    "        # 先计算左边的累积乘积数值\n",
    "        l = 1\n",
    "        for i in range(length):\n",
    "            answer.append(l)\n",
    "            l = l * arry[i]\n",
    "            \n",
    "        # 计算右边的乘积数值\n",
    "        r = 1\n",
    "        for i in range(length - 1, -1, -1):\n",
    "            answer[i] = answer[i] * r\n",
    "            r = arry[i] * r\n",
    "        return answer"
   ]
  },
  {
   "cell_type": "code",
   "execution_count": 97,
   "metadata": {},
   "outputs": [
    {
     "data": {
      "text/plain": [
       "[6, 3, 2]"
      ]
     },
     "execution_count": 97,
     "metadata": {},
     "output_type": "execute_result"
    }
   ],
   "source": [
    "nums = [1,2,3]\n",
    "a = Solution3()\n",
    "a.productExcludeItself(nums)"
   ]
  },
  {
   "cell_type": "markdown",
   "metadata": {},
   "source": [
    "时间复杂度：O(N） "
   ]
  },
  {
   "cell_type": "code",
   "execution_count": 115,
   "metadata": {},
   "outputs": [],
   "source": [
    "class Solution4:\n",
    "    def productExcludeItself(self, arry):\n",
    "        answer = [0 for _ in range(len(arry))]\n",
    "        a =[]\n",
    "        n = 1\n",
    "        answer[0]=1\n",
    "        for elem in arry:\n",
    "            n = n * elem\n",
    "            a.append(n)\n",
    "        temp = 1\n",
    "        for i in range(len(arry) -1, 0, -1):\n",
    "            answer[i] = a[i-1] * temp\n",
    "            temp = temp*arry[i]\n",
    "        answer[0] = temp\n",
    "        return answer"
   ]
  },
  {
   "cell_type": "code",
   "execution_count": 116,
   "metadata": {},
   "outputs": [
    {
     "data": {
      "text/plain": [
       "[6, 3, 2]"
      ]
     },
     "execution_count": 116,
     "metadata": {},
     "output_type": "execute_result"
    }
   ],
   "source": [
    "nums = [1,2,3]\n",
    "a = Solution4()\n",
    "a.productExcludeItself(nums)"
   ]
  },
  {
   "cell_type": "markdown",
   "metadata": {},
   "source": [
    "时间复杂度：O(N）"
   ]
  },
  {
   "cell_type": "code",
   "execution_count": null,
   "metadata": {},
   "outputs": [],
   "source": []
  }
 ],
 "metadata": {
  "kernelspec": {
   "display_name": "Python 3",
   "language": "python",
   "name": "python3"
  },
  "language_info": {
   "codemirror_mode": {
    "name": "ipython",
    "version": 3
   },
   "file_extension": ".py",
   "mimetype": "text/x-python",
   "name": "python",
   "nbconvert_exporter": "python",
   "pygments_lexer": "ipython3",
   "version": "3.7.11"
  }
 },
 "nbformat": 4,
 "nbformat_minor": 4
}
